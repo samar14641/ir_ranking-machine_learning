{
 "cells": [
  {
   "cell_type": "code",
   "execution_count": 19,
   "metadata": {},
   "outputs": [],
   "source": [
    "import numpy as np\n",
    "import os\n",
    "import pandas as pd"
   ]
  },
  {
   "cell_type": "code",
   "execution_count": 101,
   "metadata": {},
   "outputs": [
    {
     "data": {
      "text/html": [
       "<div>\n",
       "<style scoped>\n",
       "    .dataframe tbody tr th:only-of-type {\n",
       "        vertical-align: middle;\n",
       "    }\n",
       "\n",
       "    .dataframe tbody tr th {\n",
       "        vertical-align: top;\n",
       "    }\n",
       "\n",
       "    .dataframe thead th {\n",
       "        text-align: right;\n",
       "    }\n",
       "</style>\n",
       "<table border=\"1\" class=\"dataframe\">\n",
       "  <thead>\n",
       "    <tr style=\"text-align: right;\">\n",
       "      <th></th>\n",
       "      <th>id</th>\n",
       "      <th>label</th>\n",
       "      <th>qID</th>\n",
       "      <th>bm25</th>\n",
       "      <th>idf</th>\n",
       "      <th>otf</th>\n",
       "      <th>jm</th>\n",
       "      <th>laplace</th>\n",
       "      <th>qtf</th>\n",
       "      <th>perc</th>\n",
       "      <th>docLen</th>\n",
       "    </tr>\n",
       "  </thead>\n",
       "  <tbody>\n",
       "    <tr>\n",
       "      <th>0</th>\n",
       "      <td>85_AP891002-0245</td>\n",
       "      <td>1</td>\n",
       "      <td>85</td>\n",
       "      <td>0.742271</td>\n",
       "      <td>0.892695</td>\n",
       "      <td>0.602695</td>\n",
       "      <td>0.399030</td>\n",
       "      <td>1.197129</td>\n",
       "      <td>12</td>\n",
       "      <td>0.025586</td>\n",
       "      <td>469</td>\n",
       "    </tr>\n",
       "    <tr>\n",
       "      <th>1</th>\n",
       "      <td>85_AP890107-0129</td>\n",
       "      <td>1</td>\n",
       "      <td>85</td>\n",
       "      <td>1.180927</td>\n",
       "      <td>1.535395</td>\n",
       "      <td>1.240963</td>\n",
       "      <td>1.421737</td>\n",
       "      <td>0.440987</td>\n",
       "      <td>9</td>\n",
       "      <td>0.060000</td>\n",
       "      <td>150</td>\n",
       "    </tr>\n",
       "    <tr>\n",
       "      <th>2</th>\n",
       "      <td>85_AP890807-0114</td>\n",
       "      <td>1</td>\n",
       "      <td>85</td>\n",
       "      <td>-0.890010</td>\n",
       "      <td>-0.838847</td>\n",
       "      <td>-0.233771</td>\n",
       "      <td>-0.805927</td>\n",
       "      <td>-0.641625</td>\n",
       "      <td>4</td>\n",
       "      <td>0.021277</td>\n",
       "      <td>188</td>\n",
       "    </tr>\n",
       "    <tr>\n",
       "      <th>3</th>\n",
       "      <td>85_AP890819-0113</td>\n",
       "      <td>1</td>\n",
       "      <td>85</td>\n",
       "      <td>0.480031</td>\n",
       "      <td>0.761688</td>\n",
       "      <td>0.288280</td>\n",
       "      <td>0.633516</td>\n",
       "      <td>0.681506</td>\n",
       "      <td>13</td>\n",
       "      <td>0.036313</td>\n",
       "      <td>358</td>\n",
       "    </tr>\n",
       "    <tr>\n",
       "      <th>4</th>\n",
       "      <td>85_AP891017-0042</td>\n",
       "      <td>1</td>\n",
       "      <td>85</td>\n",
       "      <td>-1.932698</td>\n",
       "      <td>-1.907871</td>\n",
       "      <td>-1.229910</td>\n",
       "      <td>-1.830729</td>\n",
       "      <td>-0.934974</td>\n",
       "      <td>4</td>\n",
       "      <td>0.011331</td>\n",
       "      <td>353</td>\n",
       "    </tr>\n",
       "  </tbody>\n",
       "</table>\n",
       "</div>"
      ],
      "text/plain": [
       "                 id  label  qID      bm25       idf       otf        jm  \\\n",
       "0  85_AP891002-0245      1   85  0.742271  0.892695  0.602695  0.399030   \n",
       "1  85_AP890107-0129      1   85  1.180927  1.535395  1.240963  1.421737   \n",
       "2  85_AP890807-0114      1   85 -0.890010 -0.838847 -0.233771 -0.805927   \n",
       "3  85_AP890819-0113      1   85  0.480031  0.761688  0.288280  0.633516   \n",
       "4  85_AP891017-0042      1   85 -1.932698 -1.907871 -1.229910 -1.830729   \n",
       "\n",
       "    laplace  qtf      perc  docLen  \n",
       "0  1.197129   12  0.025586     469  \n",
       "1  0.440987    9  0.060000     150  \n",
       "2 -0.641625    4  0.021277     188  \n",
       "3  0.681506   13  0.036313     358  \n",
       "4 -0.934974    4  0.011331     353  "
      ]
     },
     "execution_count": 101,
     "metadata": {},
     "output_type": "execute_result"
    }
   ],
   "source": [
    "# read data\n",
    "df = pd.read_pickle(os.getcwd() + '\\\\data.pkl')\n",
    "df.head()"
   ]
  },
  {
   "cell_type": "code",
   "execution_count": 102,
   "metadata": {},
   "outputs": [
    {
     "data": {
      "text/plain": [
       "0    25000\n",
       "1     1832\n",
       "Name: label, dtype: int64"
      ]
     },
     "execution_count": 102,
     "metadata": {},
     "output_type": "execute_result"
    }
   ],
   "source": [
    "# check number of rel and irr docs\n",
    "df['label'].value_counts()"
   ]
  },
  {
   "cell_type": "code",
   "execution_count": 103,
   "metadata": {},
   "outputs": [
    {
     "data": {
      "text/plain": [
       "array([ 85,  59,  56,  71,  64,  62,  93,  99,  58,  77,  54,  87,  94,\n",
       "       100,  89,  61,  95,  68,  57,  97,  98,  60,  80,  63,  91],\n",
       "      dtype=int64)"
      ]
     },
     "execution_count": 103,
     "metadata": {},
     "output_type": "execute_result"
    }
   ],
   "source": [
    "# get all query IDs\n",
    "qID = df['qID'].unique()\n",
    "qID"
   ]
  },
  {
   "cell_type": "code",
   "execution_count": 123,
   "metadata": {},
   "outputs": [
    {
     "data": {
      "text/plain": [
       "[array([99, 62, 68, 63, 60], dtype=int64),\n",
       " array([ 89, 100,  85,  93,  94], dtype=int64),\n",
       " array([58, 56, 54, 59, 91], dtype=int64),\n",
       " array([98, 57, 87, 71, 80], dtype=int64),\n",
       " array([97, 77, 61, 64, 95], dtype=int64)]"
      ]
     },
     "execution_count": 123,
     "metadata": {},
     "output_type": "execute_result"
    }
   ],
   "source": [
    "np.random.shuffle(qID)\n",
    "splits = np.split(qID, 5)\n",
    "splits"
   ]
  },
  {
   "cell_type": "code",
   "execution_count": 207,
   "metadata": {},
   "outputs": [],
   "source": [
    "from sklearn import linear_model, metrics, svm, tree"
   ]
  },
  {
   "cell_type": "code",
   "execution_count": 206,
   "metadata": {},
   "outputs": [
    {
     "name": "stdout",
     "output_type": "stream",
     "text": [
      "writing\n",
      "--------------------\n",
      "writing\n",
      "--------------------\n",
      "writing\n",
      "--------------------\n",
      "writing\n",
      "--------------------\n",
      "writing\n",
      "--------------------\n"
     ]
    }
   ],
   "source": [
    "testAvg = 0\n",
    "for i in range(5):  # 5-fold CV\n",
    "    testQ = splits[i]  # select queries for testing\n",
    "    trainQ = np.setdiff1d(qID, testQ)  # select queries for trainig\n",
    "    \n",
    "    train = df[df['qID'].isin(trainQ)].copy()\n",
    "    test = df[df['qID'].isin(testQ)].copy()\n",
    "    \n",
    "#     print(train.shape, test.shape, train.shape[0] + test.shape[0])\n",
    "\n",
    "    trainX = train.loc[:, ('bm25', 'idf', 'otf', 'jm', 'laplace', 'perc', 'docLen')]\n",
    "    trainY = train.loc[:, 'label']\n",
    "    \n",
    "    testX = test.loc[:, ('bm25', 'idf', 'otf', 'jm', 'laplace', 'perc', 'docLen')]\n",
    "    testY = test.loc[:, 'label']\n",
    "\n",
    "#     print(trainX.shape, trainY.shape)\n",
    "#     print(testX.shape, testY.shape)\n",
    "\n",
    "    lm = linear_model.LinearRegression()\n",
    "    lm.fit(trainX, trainY)  # fit model\n",
    "    \n",
    "    train.loc[:, 'pred'] = lm.predict(trainX)\n",
    "    test.loc[:, 'pred'] = lm.predict(testX)\n",
    "\n",
    "    # DT\n",
    "#     dt = tree.DecisionTreeClassifier()\n",
    "#     dt.fit(trainX, trainY)  # fit model\n",
    "    \n",
    "#     train.loc[:, 'pred'] = dt.predict(trainX)\n",
    "#     test.loc[:, 'pred'] = dt.predict(testX)\n",
    "\n",
    "#     train.loc[:, 'pred'] = dt.predict_proba(trainX)\n",
    "#     test.loc[:, 'pred'] = dt.predict_proba(testX)\n",
    "\n",
    "#     print(metrics.accuracy_score(trainY, trainPred))\n",
    "#     acc = metrics.accuracy_score(testY, test['pred'])\n",
    "#     print('Model', i + 1, 'acc:', acc)\n",
    "#     testAvg += acc\n",
    "    \n",
    "    print('writing')\n",
    "#     f = [train, test]\n",
    "#     writeToFile(pd.concat(f), i)\n",
    "    writeToFile(train, i, 'train')\n",
    "    writeToFile(test, i, 'test')\n",
    "    \n",
    "    print('----' * 5)\n",
    "    \n",
    "# print('Avg acc:', testAvg / 5)"
   ]
  },
  {
   "cell_type": "code",
   "execution_count": 211,
   "metadata": {},
   "outputs": [
    {
     "name": "stdout",
     "output_type": "stream",
     "text": [
      "writing\n",
      "--------------------\n",
      "writing\n",
      "--------------------\n",
      "writing\n",
      "--------------------\n",
      "writing\n",
      "--------------------\n",
      "writing\n",
      "--------------------\n"
     ]
    }
   ],
   "source": [
    "testAvg = 0\n",
    "for i in range(5): \n",
    "    testQ = splits[i]  # select queries for testing\n",
    "    trainQ = np.setdiff1d(qID, testQ)  # select queries for trainig\n",
    "    \n",
    "    train = df[df['qID'].isin(trainQ)].copy()\n",
    "    test = df[df['qID'].isin(testQ)].copy()\n",
    "    \n",
    "#     print(train.shape, test.shape, train.shape[0] + test.shape[0])\n",
    "\n",
    "    trainX = train.loc[:, ('bm25', 'idf', 'otf', 'jm', 'laplace', 'perc', 'docLen')]\n",
    "    trainY = train.loc[:, 'label']\n",
    "    \n",
    "    testX = test.loc[:, ('bm25', 'idf', 'otf', 'jm', 'laplace', 'perc', 'docLen')]\n",
    "    testY = test.loc[:, 'label']\n",
    "    \n",
    "    model = svm.SVR(kernel = 'rbf')\n",
    "    model.fit(trainX, trainY)\n",
    "    \n",
    "    train.loc[:, 'pred'] = lm.predict(trainX)\n",
    "    test.loc[:, 'pred'] = lm.predict(testX)\n",
    "    \n",
    "    print('writing')\n",
    "#     f = [train, test]\n",
    "#     writeToFile(pd.concat(f), i)\n",
    "    writeToFile(train, i, 'train')\n",
    "    writeToFile(test, i, 'test')\n",
    "    \n",
    "    print('----' * 5)"
   ]
  },
  {
   "cell_type": "code",
   "execution_count": 200,
   "metadata": {},
   "outputs": [],
   "source": [
    "def writeToFile(res, count, typ = None):\n",
    "    fileName = None\n",
    "    \n",
    "    if typ is None:\n",
    "        fileName = 'preds_' + str(count) + '.txt'\n",
    "    else:\n",
    "        fileName = 'preds_' + typ + str(count) + '.txt'\n",
    "    \n",
    "    rd = {i: [] for i in res['qID'].unique()}\n",
    "    \n",
    "    res['docID'] = res['id'].apply(lambda x: x.split('_')[1])\n",
    "    \n",
    "    for i in res.index:\n",
    "        rd[res.loc[i, 'qID']].append((res.loc[i, 'docID'], res.loc[i, 'pred']))\n",
    "          \n",
    "    opFile = open(os.getcwd() + '\\\\ResFiles\\\\' + fileName, 'w')\n",
    "    \n",
    "    for i in rd:\n",
    "        rd[i] = sorted(rd[i], key = lambda x: x[1], reverse = True)[: 1000]\n",
    "        \n",
    "#         print('writing', i)\n",
    "        rank = 1\n",
    "        \n",
    "        for dat in rd[i]:\n",
    "            line = str(i) + ' Q0 ' + dat[0] + ' ' + str(rank) + ' ' + str(dat[1]) + ' Exp\\n'\n",
    "            rank += 1\n",
    "            opFile.write(line)\n",
    "    \n",
    "    opFile.close()"
   ]
  }
 ],
 "metadata": {
  "kernelspec": {
   "display_name": "Python 3",
   "language": "python",
   "name": "python3"
  },
  "language_info": {
   "codemirror_mode": {
    "name": "ipython",
    "version": 3
   },
   "file_extension": ".py",
   "mimetype": "text/x-python",
   "name": "python",
   "nbconvert_exporter": "python",
   "pygments_lexer": "ipython3",
   "version": "3.8.2"
  }
 },
 "nbformat": 4,
 "nbformat_minor": 4
}
